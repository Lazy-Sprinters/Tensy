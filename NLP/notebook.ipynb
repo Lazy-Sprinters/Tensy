{
  "nbformat": 4,
  "nbformat_minor": 0,
  "metadata": {
    "colab": {
      "name": "devspace.ipynb",
      "provenance": []
    },
    "kernelspec": {
      "name": "python3",
      "display_name": "Python 3"
    },
    "language_info": {
      "name": "python"
    }
  },
  "cells": [
    {
      "cell_type": "code",
      "metadata": {
        "id": "a9WWAECeWOSX"
      },
      "source": [
        "import numpy as np\n",
        "import pandas as pd\n",
        "import spacy\n",
        "from sklearn.feature_extraction.text import CountVectorizer,TfidfVectorizer\n",
        "from sklearn.metrics import accuracy_score \n",
        "from sklearn.model_selection import train_test_split\n",
        "from bs4 import BeautifulSoup\n",
        "import re\n",
        "from nltk.tokenize import WordPunctTokenizer\n",
        "from keras.models import Sequential\n",
        "from keras import layers\n",
        "from keras import models\n",
        "from flask import Flask, jsonify, request\n",
        "from flask_ngrok import run_with_ngrok"
      ],
      "execution_count": null,
      "outputs": []
    },
    {
      "cell_type": "code",
      "metadata": {
        "id": "ssuqaaUAWWga"
      },
      "source": [
        "data=pd.read_csv('/content/drive/MyDrive/IMDB Dataset.csv')"
      ],
      "execution_count": null,
      "outputs": []
    },
    {
      "cell_type": "code",
      "metadata": {
        "id": "CXmbU_jbWXjE"
      },
      "source": [
        "data['review'] = data['review'].str.replace('<br />', ' ')\n",
        "data['review'] = data['review'].str.replace('\\d+', '')\n",
        "data['review'] = data['review'].str.lower()\n",
        "data['review'] = data['review'].str.replace('.', '')\n",
        "data['review'] = data['review'].str.replace('-', '')"
      ],
      "execution_count": null,
      "outputs": []
    },
    {
      "cell_type": "code",
      "metadata": {
        "id": "ESJXCngGW1XD"
      },
      "source": [
        "tok = WordPunctTokenizer()\n",
        "symbols = r'@[A-Za-z0-9]+'\n",
        "url = r'https?://[A-Za-z0-9./]+'\n",
        "remove = r'|'.join((symbols, url))"
      ],
      "execution_count": null,
      "outputs": []
    },
    {
      "cell_type": "code",
      "metadata": {
        "id": "jl4pBgMwWZ8v"
      },
      "source": [
        "def cleaning_data(text):\n",
        "    soup = BeautifulSoup(text, 'lxml')\n",
        "    souped = soup.get_text()\n",
        "    clean = re.sub(remove, '', souped)\n",
        "    letters = re.sub(\"[^a-zA-Z]\", ' ', clean)\n",
        "    lower = letters.lower()\n",
        "    words = tok.tokenize(lower)\n",
        "    return (\" \".join(words)).strip()"
      ],
      "execution_count": null,
      "outputs": []
    },
    {
      "cell_type": "code",
      "metadata": {
        "id": "uvBzQaMVWjn2"
      },
      "source": [
        "clean_df = data"
      ],
      "execution_count": null,
      "outputs": []
    },
    {
      "cell_type": "code",
      "metadata": {
        "id": "1avO3P2UWm-s"
      },
      "source": [
        "for i in range(0,data.shape[0]):                                                                  \n",
        "    clean_df['review'][i] = cleaning_data(data['review'][i])\n",
        "    clean_df['sentiment'][i] = 1 if data['sentiment'][i] == 'positive' else 0"
      ],
      "execution_count": null,
      "outputs": []
    },
    {
      "cell_type": "code",
      "metadata": {
        "id": "vHJBAc5pXftu"
      },
      "source": [
        "X = clean_df['review'].values\n",
        "y = clean_df['sentiment'].values"
      ],
      "execution_count": null,
      "outputs": []
    },
    {
      "cell_type": "code",
      "metadata": {
        "id": "CenuuHzLWq-r"
      },
      "source": [
        "X_train, X_test, y_train, y_test = train_test_split(X, y, test_size=0.3, random_state=42)"
      ],
      "execution_count": null,
      "outputs": []
    },
    {
      "cell_type": "code",
      "metadata": {
        "id": "RAdZ8NfuYVF4"
      },
      "source": [
        "vectorizer = CountVectorizer()\n",
        "vectorizer.fit(X_train)\n",
        "X_train = vectorizer.transform(X_train)\n",
        "X_test  = vectorizer.transform(X_test)"
      ],
      "execution_count": null,
      "outputs": []
    },
    {
      "cell_type": "code",
      "metadata": {
        "id": "sMXadnGlqJRq"
      },
      "source": [
        "import pickle\n",
        "pickle.dump(vectorizer, open('/content/drive/MyDrive/textvectorizer.pkl','wb'))"
      ],
      "execution_count": null,
      "outputs": []
    },
    {
      "cell_type": "code",
      "metadata": {
        "id": "uwWle7OCYfZv"
      },
      "source": [
        "input_dim = X_train.shape[1] \n",
        "\n",
        "model = Sequential()\n",
        "model.add(layers.Dense(10, input_dim=input_dim, activation='relu'))\n",
        "model.add(layers.Dense(1, activation='sigmoid'))"
      ],
      "execution_count": null,
      "outputs": []
    },
    {
      "cell_type": "code",
      "metadata": {
        "colab": {
          "base_uri": "https://localhost:8080/"
        },
        "id": "kSn_jlvLYoLI",
        "outputId": "9492abd6-b1c8-44af-d927-a553dd23b681"
      },
      "source": [
        "model.compile(loss='binary_crossentropy',  optimizer='adam', metrics=['accuracy'])\n",
        "model.summary()"
      ],
      "execution_count": null,
      "outputs": [
        {
          "output_type": "stream",
          "text": [
            "Model: \"sequential\"\n",
            "_________________________________________________________________\n",
            "Layer (type)                 Output Shape              Param #   \n",
            "=================================================================\n",
            "dense (Dense)                (None, 10)                1152400   \n",
            "_________________________________________________________________\n",
            "dense_1 (Dense)              (None, 1)                 11        \n",
            "=================================================================\n",
            "Total params: 1,152,411\n",
            "Trainable params: 1,152,411\n",
            "Non-trainable params: 0\n",
            "_________________________________________________________________\n"
          ],
          "name": "stdout"
        }
      ]
    },
    {
      "cell_type": "code",
      "metadata": {
        "id": "Ly7-oMAXYqLf"
      },
      "source": [
        "history = model.fit(X_train, np.array(y_train).astype('float32'), epochs=10,verbose=False,validation_data=(X_test, np.array(y_test).astype('float32')), batch_size=10)"
      ],
      "execution_count": null,
      "outputs": []
    },
    {
      "cell_type": "code",
      "metadata": {
        "colab": {
          "base_uri": "https://localhost:8080/"
        },
        "id": "G24YBCiWY-Oe",
        "outputId": "bf051219-548c-4098-d965-934098177c6a"
      },
      "source": [
        "loss, accuracy = model.evaluate(X_train,  np.array(y_train).astype('float32'), verbose=False)\n",
        "print(\"Training Accuracy: \",accuracy)\n",
        "loss, accuracy = model.evaluate(X_test, np.array(y_test).astype('float32'), verbose=False)\n",
        "print(\"Testing Accuracy:  \",accuracy)"
      ],
      "execution_count": null,
      "outputs": [
        {
          "output_type": "stream",
          "text": [
            "Training Accuracy:  0.9997714161872864\n",
            "Testing Accuracy:   0.8722666501998901\n"
          ],
          "name": "stdout"
        }
      ]
    },
    {
      "cell_type": "code",
      "metadata": {
        "id": "TLNnHMThaFjE"
      },
      "source": [
        "model.save('/content/drive/MyDrive/reviewmodel.h5')"
      ],
      "execution_count": null,
      "outputs": []
    },
    {
      "cell_type": "code",
      "metadata": {
        "id": "9lvNGNFlaPm-"
      },
      "source": [
        "loaded = models.load_model('/content/drive/MyDrive/reviewmodel.h5')"
      ],
      "execution_count": null,
      "outputs": []
    },
    {
      "cell_type": "code",
      "metadata": {
        "colab": {
          "base_uri": "https://localhost:8080/"
        },
        "id": "b03iKz5jaVxU",
        "outputId": "c99dc82b-fb20-475a-edea-721d7e6d45cb"
      },
      "source": [
        "loaded.predict(vectorizer.transform(['Good service overall but not enough']))[0][0].round()"
      ],
      "execution_count": null,
      "outputs": [
        {
          "output_type": "execute_result",
          "data": {
            "text/plain": [
              "0.0"
            ]
          },
          "metadata": {
            "tags": []
          },
          "execution_count": 56
        }
      ]
    },
    {
      "cell_type": "code",
      "metadata": {
        "colab": {
          "base_uri": "https://localhost:8080/"
        },
        "id": "d9kyJLYIn-dV",
        "outputId": "e890d0ae-5eab-4675-dc02-2d1e28fd4bd4"
      },
      "source": [
        "!pip install flask-ngrok"
      ],
      "execution_count": null,
      "outputs": [
        {
          "output_type": "stream",
          "text": [
            "Collecting flask-ngrok\n",
            "  Downloading https://files.pythonhosted.org/packages/af/6c/f54cb686ad1129e27d125d182f90f52b32f284e6c8df58c1bae54fa1adbc/flask_ngrok-0.0.25-py3-none-any.whl\n",
            "Requirement already satisfied: requests in /usr/local/lib/python3.7/dist-packages (from flask-ngrok) (2.23.0)\n",
            "Requirement already satisfied: Flask>=0.8 in /usr/local/lib/python3.7/dist-packages (from flask-ngrok) (1.1.2)\n",
            "Requirement already satisfied: idna<3,>=2.5 in /usr/local/lib/python3.7/dist-packages (from requests->flask-ngrok) (2.10)\n",
            "Requirement already satisfied: urllib3!=1.25.0,!=1.25.1,<1.26,>=1.21.1 in /usr/local/lib/python3.7/dist-packages (from requests->flask-ngrok) (1.24.3)\n",
            "Requirement already satisfied: chardet<4,>=3.0.2 in /usr/local/lib/python3.7/dist-packages (from requests->flask-ngrok) (3.0.4)\n",
            "Requirement already satisfied: certifi>=2017.4.17 in /usr/local/lib/python3.7/dist-packages (from requests->flask-ngrok) (2020.12.5)\n",
            "Requirement already satisfied: click>=5.1 in /usr/local/lib/python3.7/dist-packages (from Flask>=0.8->flask-ngrok) (7.1.2)\n",
            "Requirement already satisfied: itsdangerous>=0.24 in /usr/local/lib/python3.7/dist-packages (from Flask>=0.8->flask-ngrok) (1.1.0)\n",
            "Requirement already satisfied: Jinja2>=2.10.1 in /usr/local/lib/python3.7/dist-packages (from Flask>=0.8->flask-ngrok) (2.11.3)\n",
            "Requirement already satisfied: Werkzeug>=0.15 in /usr/local/lib/python3.7/dist-packages (from Flask>=0.8->flask-ngrok) (1.0.1)\n",
            "Requirement already satisfied: MarkupSafe>=0.23 in /usr/local/lib/python3.7/dist-packages (from Jinja2>=2.10.1->Flask>=0.8->flask-ngrok) (1.1.1)\n",
            "Installing collected packages: flask-ngrok\n",
            "Successfully installed flask-ngrok-0.0.25\n"
          ],
          "name": "stdout"
        }
      ]
    },
    {
      "cell_type": "code",
      "metadata": {
        "id": "ONPf8whfoBsy"
      },
      "source": [
        "import numpy as np\n",
        "import pandas as pd\n",
        "import spacy\n",
        "from sklearn.feature_extraction.text import CountVectorizer,TfidfVectorizer\n",
        "from sklearn.metrics import accuracy_score \n",
        "from sklearn.model_selection import train_test_split\n",
        "from bs4 import BeautifulSoup\n",
        "import re\n",
        "from nltk.tokenize import WordPunctTokenizer\n",
        "from keras.models import Sequential\n",
        "from keras import layers\n",
        "from keras import models\n",
        "from flask import Flask, jsonify, request\n",
        "from flask_ngrok import run_with_ngrok\n",
        "import pickle"
      ],
      "execution_count": null,
      "outputs": []
    },
    {
      "cell_type": "code",
      "metadata": {
        "id": "t382EDHVoPMS"
      },
      "source": [
        "tok = WordPunctTokenizer()\n",
        "symbols = r'@[A-Za-z0-9]+'\n",
        "url = r'https?://[A-Za-z0-9./]+'\n",
        "remove = r'|'.join((symbols, url))"
      ],
      "execution_count": null,
      "outputs": []
    },
    {
      "cell_type": "code",
      "metadata": {
        "id": "R34BxdHOoNhb"
      },
      "source": [
        "def cleaning_data(text):\n",
        "    soup = BeautifulSoup(text, 'lxml')\n",
        "    souped = soup.get_text()\n",
        "    clean = re.sub(remove, '', souped)\n",
        "    letters = re.sub(\"[^a-zA-Z]\", ' ', clean)\n",
        "    lower = letters.lower()\n",
        "    words = tok.tokenize(lower)\n",
        "    return (\" \".join(words)).strip()"
      ],
      "execution_count": null,
      "outputs": []
    },
    {
      "cell_type": "code",
      "metadata": {
        "id": "PV4nXrV4oVTE"
      },
      "source": [
        "loaded = models.load_model('/content/drive/MyDrive/reviewmodel.h5')\n",
        "vectorizer = pickle.load(open('/content/drive/MyDrive/textvectorizer.pkl','rb'))"
      ],
      "execution_count": null,
      "outputs": []
    },
    {
      "cell_type": "code",
      "metadata": {
        "id": "RrpwCw3haiop"
      },
      "source": [
        "app = Flask(__name__)\n",
        "run_with_ngrok(app)\n",
        "\n",
        "\n",
        "@app.route(\"/\", methods=[\"POST\"])\n",
        "def home():\n",
        "  data = request.json\n",
        "  review = data['review']\n",
        "  review = cleaning_data(review)\n",
        "  review = [review]\n",
        "  review = vectorizer.transform(review)\n",
        "  score  = loaded.predict((review))[0][0].round()\n",
        "  return str(score)"
      ],
      "execution_count": null,
      "outputs": []
    },
    {
      "cell_type": "code",
      "metadata": {
        "colab": {
          "base_uri": "https://localhost:8080/"
        },
        "id": "DjD1qNNMo6f7",
        "outputId": "e7f6f5af-7920-432e-df38-68f356ec75c2"
      },
      "source": [
        "app.run()"
      ],
      "execution_count": null,
      "outputs": [
        {
          "output_type": "stream",
          "text": [
            " * Serving Flask app \"__main__\" (lazy loading)\n",
            " * Environment: production\n",
            "\u001b[31m   WARNING: This is a development server. Do not use it in a production deployment.\u001b[0m\n",
            "\u001b[2m   Use a production WSGI server instead.\u001b[0m\n",
            " * Debug mode: off\n"
          ],
          "name": "stdout"
        },
        {
          "output_type": "stream",
          "text": [
            " * Running on http://127.0.0.1:5000/ (Press CTRL+C to quit)\n"
          ],
          "name": "stderr"
        },
        {
          "output_type": "stream",
          "text": [
            " * Running on http://0215081a98ad.ngrok.io\n",
            " * Traffic stats available on http://127.0.0.1:4040\n"
          ],
          "name": "stdout"
        },
        {
          "output_type": "stream",
          "text": [
            "127.0.0.1 - - [20/Mar/2021 22:11:09] \"\u001b[37mPOST / HTTP/1.1\u001b[0m\" 200 -\n"
          ],
          "name": "stderr"
        }
      ]
    },
    {
      "cell_type": "code",
      "metadata": {
        "id": "Diku8rc6o7z6"
      },
      "source": [
        ""
      ],
      "execution_count": null,
      "outputs": []
    }
  ]
}